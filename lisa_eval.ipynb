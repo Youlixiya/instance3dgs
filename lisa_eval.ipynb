{
 "cells": [
  {
   "cell_type": "code",
   "execution_count": null,
   "metadata": {},
   "outputs": [],
   "source": [
    "from lisa.lisa_pipeline import LISAPipeline\n",
    "from PIL import Image\n",
    "import os\n",
    "from tqdm import tqdm\n",
    "lisa_model_type = \"xinlai/LISA-13B-llama2-v1-explanatory\"\n",
    "lisa_conv_type = \"llava_llama_2\"\n",
    "lisa_pipeline = LISAPipeline(lisa_model_type, local_rank=0, load_in_4bit=False, load_in_8bit=True, conv_type=lisa_conv_type)"
   ]
  },
  {
   "cell_type": "code",
   "execution_count": null,
   "metadata": {},
   "outputs": [],
   "source": [
    "images_root = 'data/nerf_llff_data/fern/images_4'\n",
    "lisa_text_prompt = 'Can you segment the biggest tree?'\n",
    "image_names = os.listdir(images_root)\n",
    "image_paths = [os.path.join(images_root, name) for name in image_names]\n",
    "images = [Image.open(path) for path in image_paths]\n"
   ]
  },
  {
   "cell_type": "code",
   "execution_count": null,
   "metadata": {},
   "outputs": [],
   "source": [
    "result_list, mask_result_list, mask_list, mask_rgb_list, output_str = lisa_pipeline(lisa_text_prompt, image=images[0])"
   ]
  }
 ],
 "metadata": {
  "language_info": {
   "name": "python"
  }
 },
 "nbformat": 4,
 "nbformat_minor": 2
}
